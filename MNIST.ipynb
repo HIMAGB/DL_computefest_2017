{
 "cells": [
  {
   "cell_type": "markdown",
   "metadata": {},
   "source": [
    "## The data\n",
    "\n",
    "These two lines of code will download and read in the data from the [MNIST dataset of handwritten digits](http://yann.lecun.com/exdb/mnist/) automatically"
   ]
  },
  {
   "cell_type": "code",
   "execution_count": 1,
   "metadata": {
    "collapsed": false
   },
   "outputs": [
    {
     "name": "stdout",
     "output_type": "stream",
     "text": [
      "Extracting MNIST_data/train-images-idx3-ubyte.gz\n",
      "Extracting MNIST_data/train-labels-idx1-ubyte.gz\n",
      "Extracting MNIST_data/t10k-images-idx3-ubyte.gz\n",
      "Extracting MNIST_data/t10k-labels-idx1-ubyte.gz\n"
     ]
    }
   ],
   "source": [
    "from tensorflow.examples.tutorials.mnist import input_data\n",
    "\n",
    "mnist = input_data.read_data_sets(\"MNIST_data/\", one_hot=True)"
   ]
  },
  {
   "cell_type": "markdown",
   "metadata": {},
   "source": [
    "![alt text](images/mnistdigits.gif \"MNIST digits\")"
   ]
  },
  {
   "cell_type": "code",
   "execution_count": 2,
   "metadata": {
    "collapsed": false
   },
   "outputs": [
    {
     "name": "stdout",
     "output_type": "stream",
     "text": [
      "<class 'tensorflow.contrib.learn.python.learn.datasets.base.Datasets'>\n",
      "<class 'tensorflow.contrib.learn.python.learn.datasets.mnist.DataSet'>\n"
     ]
    }
   ],
   "source": [
    "print(type(mnist))\n",
    "print(type(mnist.train))"
   ]
  },
  {
   "cell_type": "markdown",
   "metadata": {},
   "source": [
    "The `mnist` variable contains a TensorFlow high level `Datasets` object, handling all the operations we'll perform on the data (labeling images, counting iterations during training, etc).\n",
    "\n",
    "The MNIST data is split into three parts: 55,000 data points of training data (`mnist.train`), 10,000 points of test data (`mnist.test`), and 5,000 points of validation data (`mnist.validation`). This split is very important: it's essential in machine learning that we have separate data which we don't learn from so that we can make sure that what we've learned actually generalizes.\n",
    "\n",
    "Each MNIST data point has two parts: an image of a handwritten digit and a corresponding label. Both the training set and test set contain images and their corresponding labels; for example the training images are `mnist.train.images` and the training labels are `mnist.train.labels`. "
   ]
  },
  {
   "cell_type": "code",
   "execution_count": 3,
   "metadata": {
    "collapsed": false
   },
   "outputs": [
    {
     "name": "stdout",
     "output_type": "stream",
     "text": [
      "There are 55000 images and (of course) 55000 labels in the training set\n",
      "There are 10000 images and (of course) 10000 labels in the test set\n",
      "There are 5000 images and (of course) 5000 labels in the validation set\n"
     ]
    }
   ],
   "source": [
    "format_string = 'There are %d images and (of course) %d labels in the %s set'\n",
    "\n",
    "print(format_string % (len(mnist.train.images), len(mnist.train.labels), 'training'))\n",
    "print(format_string % (len(mnist.test.images), len(mnist.test.labels), 'test'))\n",
    "print(format_string % (len(mnist.validation.images), len(mnist.validation.labels), 'validation'))"
   ]
  },
  {
   "cell_type": "markdown",
   "metadata": {
    "collapsed": true
   },
   "source": [
    "Each image is 28 pixels by 28 pixels. Grayscale images can be seen as arrays of numbers (pixels), with values ranging from 0 (black) to 1 (white)."
   ]
  },
  {
   "cell_type": "code",
   "execution_count": 4,
   "metadata": {
    "collapsed": false
   },
   "outputs": [
    {
     "name": "stdout",
     "output_type": "stream",
     "text": [
      "[ 0.          0.          0.          0.          0.          0.          0.\n",
      "  0.38039219  0.37647063  0.3019608   0.46274513  0.2392157   0.          0.\n",
      "  0.          0.          0.          0.          0.          0.          0.\n",
      "  0.          0.          0.          0.          0.          0.\n",
      "  0.35294119  0.5411765   0.92156869  0.92156869  0.92156869  0.92156869\n",
      "  0.92156869  0.92156869  0.98431379  0.98431379  0.97254908  0.99607849\n",
      "  0.96078438  0.92156869  0.74509805  0.08235294  0.          0.          0.\n",
      "  0.          0.          0.          0.          0.          0.          0.\n",
      "  0.          0.54901963  0.98431379  0.99607849  0.99607849  0.99607849\n",
      "  0.99607849  0.99607849  0.99607849  0.99607849  0.99607849  0.99607849\n",
      "  0.99607849  0.99607849  0.99607849  0.99607849  0.99607849  0.74117649\n",
      "  0.09019608  0.          0.          0.          0.          0.          0.\n",
      "  0.          0.          0.          0.          0.88627458  0.99607849\n",
      "  0.81568635  0.78039223  0.78039223  0.78039223  0.78039223  0.54509807\n",
      "  0.2392157   0.2392157   0.2392157   0.2392157   0.2392157   0.50196081\n",
      "  0.8705883   0.99607849  0.99607849  0.74117649]\n"
     ]
    }
   ],
   "source": [
    "import numpy as np\n",
    "\n",
    "image = mnist.train.images[0]\n",
    "print(image[200:300])"
   ]
  },
  {
   "cell_type": "code",
   "execution_count": 5,
   "metadata": {
    "collapsed": false
   },
   "outputs": [
    {
     "data": {
      "text/plain": [
       "<matplotlib.image.AxesImage at 0x117b6e810>"
      ]
     },
     "execution_count": 5,
     "metadata": {},
     "output_type": "execute_result"
    },
    {
     "data": {
      "image/png": "[encoded data removed]",
      "text/plain": [
       "<matplotlib.figure.Figure at 0x115111850>"
      ]
     },
     "metadata": {},
     "output_type": "display_data"
    }
   ],
   "source": [
    "image = np.reshape(image, [28, 28])\n",
    "\n",
    "%matplotlib inline\n",
    "import matplotlib.pyplot as plt\n",
    "\n",
    "plt.imshow(image, cmap='gray')"
   ]
  },
  {
   "cell_type": "markdown",
   "metadata": {},
   "source": [
    "Let's check the image is actually labeled correctly. As we specified before, the labels are encoded as [one-hot](https://en.wikipedia.org/wiki/One-hot)"
   ]
  },
  {
   "cell_type": "code",
   "execution_count": 6,
   "metadata": {
    "collapsed": false
   },
   "outputs": [
    {
     "name": "stdout",
     "output_type": "stream",
     "text": [
      "The label is [ 0.  0.  0.  0.  0.  0.  0.  1.  0.  0.], which is the one-hot encoding for 7\n"
     ]
    }
   ],
   "source": [
    "one_hot_label = mnist.train.labels[0]\n",
    "label = np.where(one_hot_label==1.)[0]\n",
    "print('The label is %s, which is the one-hot encoding for %d' % (one_hot_label, label))"
   ]
  },
  {
   "cell_type": "markdown",
   "metadata": {},
   "source": [
    "## The model\n",
    "\n",
    "As a first simple model, we are going to implement a neural network performing softmax regression, which is a straightforward way to do classification. It looks like this:\n",
    "\n",
    "![alt text](images/softmax-regression-scalargraph.png \"Softmax Regression graph\")\n",
    "\n",
    "You can see how the input pixels (`x`) are _fully connected_ to the output layer neurons through weights and biases and the application of an activation function. Since we have 10 different classes (digits), the output layer will contain exactly 10 neurons. The activation function we are using to quantify the probabilities for an input to belong to a specific class is the softmax function.\n",
    "\n",
    "![alt text](images/softmax.png \"Softmax activation function\")\n",
    "\n",
    "Let's implement this simple model with TensorFlow!"
   ]
  },
  {
   "cell_type": "code",
   "execution_count": 7,
   "metadata": {
    "collapsed": true
   },
   "outputs": [],
   "source": [
    "import tensorflow as tf\n",
    "\n",
    "x = tf.placeholder(tf.float32, [None, 28 * 28])\n",
    "\n",
    "W = tf.Variable(tf.zeros([28 * 28, 10]))\n",
    "b = tf.Variable(tf.zeros([10]))\n",
    "\n",
    "y = tf.nn.softmax(tf.matmul(x, W) + b)"
   ]
  },
  {
   "cell_type": "markdown",
   "metadata": {},
   "source": [
    "The majority of computation libraries out there help us compute expensive numerical operations by running them outside Python. TensorFlow does something a little bit different: it lets us describe a graph of interacting operations that run entirely outside Python. This approach is very common for a lot of machine learning libraries.\n",
    "\n",
    "The code we have written in the cell above does not _compute_ anything. It just defines:\n",
    "- a `placeholder`, i.e. a value that we'll input when we ask TensorFlow to run a computation\n",
    "- the weights and biases `Variable`s\n",
    "- the output `y` defined as the application of the softmax function over the matrix multiplication of the input and weights, plus the biases\n",
    "All of these placeholders and variables are modeled with tensors. You have certainly seen tensors before: monodimensional tensors are vectors, while bidimensional tensors are matrices. Tensors are just a generalization to expand the concept to n dimensions.\n",
    "\n",
    "The operations we define in TensorFlow typically take tensors as input and output some tensors. You see where we're going? The operation graph we define is just a flow of tensors, hence the name TensorFlow.\n",
    "\n",
    "The only thing that can be a little tricky here is the dimensions of the tensors we have defined.\n",
    "\n",
    "The placeholder has dimension `[None, 28 * 28]`. A dimension of `None` actually means that that dimension could be any valid number. We need a bidimensional tensor (matrix) to represent our input because we'll input a batch of images of 28 * 28 pixels during training. It doesn't matter how many images we'll _feed_ the model (how _big_ the batch we'll be) for the other operations to take place correctly.\n",
    "\n",
    "The weights matrix will have as many rows as the number of input neurons and as many columns as the number of output neurons, hence the dimension `[28 * 28, 10]`. The biases vector will just have the dimension of the number of output neurons: `[10]`. We initialize weights and biases to zero for the sake of simplicity at the moment. You'll see how to initialize variables from distributions later on.\n",
    "\n",
    "No dimension needs to be specified for the output `y` since it's of course a consequence of the operations on our variables, resulting in a dimension of `[None, 10]`."
   ]
  },
  {
   "cell_type": "markdown",
   "metadata": {},
   "source": [
    "## Training\n",
    "\n",
    "Let's proceed patiently, one step at a time."
   ]
  },
  {
   "cell_type": "code",
   "execution_count": 8,
   "metadata": {
    "collapsed": true
   },
   "outputs": [],
   "source": [
    "y_ = tf.placeholder(tf.float32, [None, 10])\n",
    "cross_entropy = tf.reduce_mean(-tf.reduce_sum(y_ * tf.log(y), reduction_indices=[1]))\n",
    "train_step = tf.train.GradientDescentOptimizer(0.5).minimize(cross_entropy)"
   ]
  },
  {
   "cell_type": "markdown",
   "metadata": {},
   "source": [
    "At some point in time, we'll need to calculate _how well_ the model is learning. We just need to define a loss function, for instance the cross-entropy function, and another placeholder, needed to input the labels with which to actually compute the loss.\n",
    "\n",
    "*Warning*: you'll rarely see the cross-entropy function defined like that in a source code, because this formulation leads to numerical instability problems. TensorFlow deals with this issue by providing a `softmax_cross_entropy_with_logits` function, to be a applied to the unnormalized `tf.matmul(x, W) + b`. We use this more low-level cross-entropy definition to keep things explicit and clear.\n",
    "\n",
    "We also define what a train step is for us, by appliying a gradient descent optimization with learning rate equal to 0.5 to minimize our cross-entropy. Again, `train_step` is yet another operation we define, it's not doing anything yet."
   ]
  },
  {
   "cell_type": "code",
   "execution_count": 9,
   "metadata": {
    "collapsed": false
   },
   "outputs": [],
   "source": [
    "init = tf.global_variables_initializer()\n",
    "sess = tf.InteractiveSession()\n",
    "sess.run(init)\n",
    "for i in range(1000):\n",
    "    batch_xs, batch_ys = mnist.train.next_batch(100)\n",
    "    sess.run(train_step, feed_dict={x: batch_xs, y_: batch_ys})"
   ]
  },
  {
   "cell_type": "markdown",
   "metadata": {},
   "source": [
    "Now we have our model set up. Let's train it!\n",
    "\n",
    "First, we create an operation to initialize the variables we created. Again, this `init` operation defines the operation but does not run it yet. We then finally launch the model in an `InteractiveSession`, and now we run the operation that initializes the variables before entering the training loop.\n",
    "\n",
    "In the loop, we can just get the next train batch, and then run the `train_step` operation by feeding the model with the images and labels in our batch."
   ]
  },
  {
   "cell_type": "markdown",
   "metadata": {},
   "source": [
    "## Evaluation\n",
    "\n",
    "We should now finally evaluate the performance of our model."
   ]
  },
  {
   "cell_type": "code",
   "execution_count": 10,
   "metadata": {
    "collapsed": false,
    "scrolled": true
   },
   "outputs": [
    {
     "name": "stdout",
     "output_type": "stream",
     "text": [
      "0.9175\n"
     ]
    }
   ],
   "source": [
    "correct_prediction = tf.equal(tf.argmax(y,1), tf.argmax(y_,1))\n",
    "accuracy = tf.reduce_mean(tf.cast(correct_prediction, tf.float32))\n",
    "print(sess.run(accuracy, feed_dict={x: mnist.test.images, y_: mnist.test.labels}))"
   ]
  },
  {
   "cell_type": "markdown",
   "metadata": {},
   "source": [
    "When can we say our prediction is correct? Well, simply when the label our model has generated by giving an image as input is the label assigned to that image. A little complication: since our labels are one-hot vectors and our predictions are probabilities, we need to extract the labels by retrieving the index of the max value in our vectors.\n",
    "\n",
    "Once we know how to say when our model is correct, we can write an accuracy function as a simple average of all our correct predictions."
   ]
  },
  {
   "cell_type": "markdown",
   "metadata": {},
   "source": [
    "## Exercise\n",
    "\n",
    "Ok, let's see if we can expand our humble network. Our new model is required to have an additional hidden layer, with its 300 neurons fully connected to the input and output neurons. The activation function we want to use in this case is the ReLU (`tf.nn.relu(features)`). We also want to initialize our weights by sampling from a truncated normal distribution and biases as constants slightly greater than zero to avoid initialization problems. You can do that by initializing a `tf.Variable` with one of the following as first argument:\n",
    "\n",
    "`tf.truncated_normal([input_neurons, output_neurons], stddev=1 / math.sqrt(input_neurons))`\n",
    "`tf.constant(value, shape=[output_neurons])`\n",
    "\n",
    "The best way to learn is by getting your hands dirty and trying to mess around with the code. You have 10 minutes to write your solution."
   ]
  },
  {
   "cell_type": "code",
   "execution_count": 11,
   "metadata": {
    "collapsed": false
   },
   "outputs": [
    {
     "name": "stdout",
     "output_type": "stream",
     "text": [
      "0.9681\n"
     ]
    }
   ],
   "source": [
    "import math\n",
    "\n",
    "W1 = tf.Variable(tf.truncated_normal([28 * 28, 300], stddev=1 / math.sqrt(28 * 28)))\n",
    "b1 = tf.Variable(tf.constant(0.1, shape=[300]))\n",
    "h = tf.nn.relu(tf.matmul(x, W1) + b1)\n",
    "\n",
    "W2 = tf.Variable(tf.truncated_normal([300, 10], stddev=1 / math.sqrt(300)))\n",
    "b2 = tf.Variable(tf.constant(0.1, shape=[10]))\n",
    "y = tf.nn.softmax(tf.matmul(h, W2) + b2)\n",
    "\n",
    "cross_entropy = tf.reduce_mean(-tf.reduce_sum(y_ * tf.log(y), reduction_indices=[1]))\n",
    "train_step = tf.train.GradientDescentOptimizer(0.5).minimize(cross_entropy)\n",
    "\n",
    "init = tf.global_variables_initializer()\n",
    "sess = tf.InteractiveSession()\n",
    "sess.run(init)\n",
    "for i in range(1000):\n",
    "    batch_xs, batch_ys = mnist.train.next_batch(100)\n",
    "    sess.run(train_step, feed_dict={x: batch_xs, y_: batch_ys})\n",
    "    \n",
    "correct_prediction = tf.equal(tf.argmax(y, 1), tf.argmax(y_, 1))\n",
    "accuracy = tf.reduce_mean(tf.cast(correct_prediction, tf.float32))\n",
    "print(sess.run(accuracy, feed_dict={x: mnist.test.images, y_: mnist.test.labels}))"
   ]
  },
  {
   "cell_type": "markdown",
   "metadata": {},
   "source": [
    "## TensorBoard\n",
    "\n",
    "As you've seen before, with little effort and a few lines of code, we are capable of making a computer able to recognize handwritten digits with some confidence. At this point, however, we don't have much control on the model we have created. Actually, we are not even sure it performs as it should.\n",
    "\n",
    "One way to visualize what we are doing with our operation graph, training loop and so on is to leverage the power of [TensorBoard](https://www.tensorflow.org/how_tos/summaries_and_tensorboard/), which is a suite of visualization tools easily pluggable in your TensorFlow model.\n",
    "\n",
    "TensorBoard operates by reading TensorFlow events files, which contain summary data that we can generate when running TensorFlow with special summary operations. Summary operations can serialize our data in multiple ways, be our data images, audio, histograms or distributions. Again, defining a summary operation doesn't do much, so we need to merge all summaries before a `tf.train.SummaryWriter` can actually serialize our data for us into log files."
   ]
  },
  {
   "cell_type": "code",
   "execution_count": 12,
   "metadata": {
    "collapsed": false
   },
   "outputs": [
    {
     "name": "stdout",
     "output_type": "stream",
     "text": [
      "0.9632\n"
     ]
    }
   ],
   "source": [
    "input_images = tf.reshape(x, [-1, 28, 28, 1])\n",
    "tf.summary.image('input', input_images)\n",
    "\n",
    "W1 = tf.Variable(tf.truncated_normal([28 * 28, 300], stddev=1 / math.sqrt(28 * 28)))\n",
    "b1 = tf.Variable(tf.constant(0.1, shape=[300]))\n",
    "h = tf.nn.relu(tf.matmul(x, W1) + b1)\n",
    "tf.summary.histogram('L1_weights', W1)\n",
    "\n",
    "W2 = tf.Variable(tf.truncated_normal([300, 10], stddev=1 / math.sqrt(300)))\n",
    "b2 = tf.Variable(tf.constant(0.1, shape=[10]))\n",
    "logits = tf.matmul(h, W2) + b2\n",
    "y = tf.nn.softmax(logits)\n",
    "tf.summary.histogram('L2_weights', W2)\n",
    "tf.summary.histogram('logits', logits)\n",
    "tf.summary.histogram('output', y)\n",
    "\n",
    "cross_entropy = tf.reduce_mean(-tf.reduce_sum(y_ * tf.log(y), reduction_indices=[1]))\n",
    "train_step = tf.train.GradientDescentOptimizer(0.5).minimize(cross_entropy)\n",
    "tf.summary.scalar('loss', cross_entropy)\n",
    "\n",
    "correct_prediction = tf.equal(tf.argmax(y, 1), tf.argmax(y_, 1))\n",
    "accuracy = tf.reduce_mean(tf.cast(correct_prediction, tf.float32))\n",
    "tf.summary.scalar('accuracy', accuracy)\n",
    "\n",
    "merged_summaries = tf.summary.merge_all()\n",
    "summary_writer = tf.summary.FileWriter('./summary', sess.graph)\n",
    "\n",
    "init = tf.global_variables_initializer()\n",
    "sess = tf.InteractiveSession()\n",
    "sess.run(init)\n",
    "for i in range(1000):\n",
    "    batch_xs, batch_ys = mnist.train.next_batch(100)\n",
    "    _, summary = sess.run([train_step, merged_summaries], feed_dict={x: batch_xs, y_: batch_ys})\n",
    "    summary_writer.add_summary(summary, i)\n",
    "\n",
    "print(sess.run(accuracy, feed_dict={x: mnist.test.images, y_: mnist.test.labels}))"
   ]
  },
  {
   "cell_type": "code",
   "execution_count": null,
   "metadata": {
    "collapsed": true
   },
   "outputs": [],
   "source": []
  },
  {
   "cell_type": "code",
   "execution_count": null,
   "metadata": {
    "collapsed": true
   },
   "outputs": [],
   "source": []
  }
 ],
 "metadata": {
  "kernelspec": {
   "display_name": "Python 2",
   "language": "python",
   "name": "python2"
  },
  "language_info": {
   "codemirror_mode": {
    "name": "ipython",
    "version": 2
   },
   "file_extension": ".py",
   "mimetype": "text/x-python",
   "name": "python",
   "nbconvert_exporter": "python",
   "pygments_lexer": "ipython2",
   "version": "2.7.12"
  }
 },
 "nbformat": 4,
 "nbformat_minor": 2
}
